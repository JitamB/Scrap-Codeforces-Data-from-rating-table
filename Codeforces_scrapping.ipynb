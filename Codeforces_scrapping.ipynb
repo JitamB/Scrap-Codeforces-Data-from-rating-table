{
 "cells": [
  {
   "cell_type": "markdown",
   "id": "07351e33",
   "metadata": {},
   "source": [
    "## Scrap the data of all the users from the rating table"
   ]
  },
  {
   "cell_type": "markdown",
   "id": "9002e795",
   "metadata": {},
   "source": [
    "This below code scraps data of each user (participated in recent 6 months) in the below format"
   ]
  },
  {
   "cell_type": "markdown",
   "id": "aa5d16a6",
   "metadata": {},
   "source": [
    "x1 = Global Rank</br>\n",
    "x2 = Country</br>\n",
    "x3 = Handle</br>\n",
    "x4 = Games Played</br>\n",
    "x5 = Ratings</br>"
   ]
  },
  {
   "cell_type": "markdown",
   "id": "865b22b4",
   "metadata": {},
   "source": [
    "To run this code, one need to create API that can bypass the Codeforce bot checking by Cloudflare. You can use zenrows or other softwares for that which provides free APIs."
   ]
  },
  {
   "cell_type": "markdown",
   "id": "5c146b92",
   "metadata": {},
   "source": [
    "### Warning: It may take upto 2 hours to scrap all the 835 pages"
   ]
  },
  {
   "cell_type": "code",
   "execution_count": 123,
   "id": "4bc3e0f4",
   "metadata": {
    "scrolled": true
   },
   "outputs": [
    {
     "name": "stdout",
     "output_type": "stream",
     "text": [
      "1, Glob_Rank: 1, Country: Belarus, Handle: tourist, Gameplay: 282, Rating: 3777\n",
      "2, Glob_Rank: 2, Country: China, Handle: jiangly, Gameplay: 181, Rating: 3756\n",
      "3, Glob_Rank: 3, Country: China, Handle: orzdevinwang, Gameplay: 73, Rating: 3696\n",
      "4, Glob_Rank: 4, Country: China, Handle: Kevin114514, Gameplay: 90, Rating: 3647\n",
      "5, Glob_Rank: 5, Country: Poland, Handle: Radewoosh, Gameplay: 254, Rating: 3631\n",
      "6, Glob_Rank: 6, Country: Canada, Handle: ksun48, Gameplay: 295, Rating: 3574\n",
      "7, Glob_Rank: 7, Country: Japan, Handle: maroonrk, Gameplay: 194, Rating: 3565\n",
      "8, Glob_Rank: 8, Country: США, Handle: Benq, Gameplay: 161, Rating: 3527\n",
      "9, Glob_Rank: 9, Country: США, Handle: ecnerwala, Gameplay: 200, Rating: 3526\n",
      "10, Glob_Rank: 10, Country: United Kingdom, Handle: Um_nik, Gameplay: 299, Rating: 3418\n",
      "1 "
     ]
    }
   ],
   "source": [
    "import requests\n",
    "from bs4 import BeautifulSoup\n",
    "import numpy as np\n",
    "\n",
    "i=0\n",
    "n=170000\n",
    "api = '' # Get the api from any software\n",
    "\n",
    "x1=np.empty(n, dtype='object')\n",
    "x2=np.empty(n, dtype='object')\n",
    "x3=np.empty(n, dtype='object')\n",
    "x4=np.empty(n, dtype='object')\n",
    "x5=np.empty(n, dtype='object')\n",
    "for num in range(1, 2):\n",
    "    url = f'https://codeforces.com/ratings/page/{num}'\n",
    "    \n",
    "    #Create your own api from zenrows.com and paste it in the place of 'api'\n",
    "    \n",
    "    apikey = api\n",
    "    params = {\n",
    "        'url': url,\n",
    "        'apikey': apikey,\n",
    "    }\n",
    "    response = requests.get('https://api.zenrows.com/v1/', params=params)\n",
    "\n",
    "    soup = BeautifulSoup(response.text, 'html.parser')\n",
    "    tables = soup.find_all('table')\n",
    "    rating_table = tables[5]\n",
    "\n",
    "    rows = rating_table.find_all('tr')\n",
    "\n",
    "    rows = rows[1:]\n",
    "    for row in rows:\n",
    "        columns = row.find_all('td')\n",
    "        rank = columns[0].text.strip()\n",
    "        x1[i] = rank\n",
    "        imge = columns[1].find('img')\n",
    "        if(imge):\n",
    "            cntry = imge.get('title')\n",
    "        else:\n",
    "            cntry = 'NA'\n",
    "        x2[i] = cntry\n",
    "        x3[i] = columns[1].text.strip()\n",
    "        x4[i] = columns[2].text.strip()\n",
    "        x5[i] = columns[3].text.strip()\n",
    "        if (i<10):\n",
    "            print(f\"{i+1}, Glob_Rank: {x1[i]}, Country: {x2[i]}, Handle: {x3[i]}, Gameplay: {x4[i]}, Rating: {x5[i]}\")\n",
    "        i+=1\n",
    "    print(num, end=\" \") #To check the number of pages visited\n"
   ]
  },
  {
   "cell_type": "code",
   "execution_count": 124,
   "id": "f2d8ba03",
   "metadata": {},
   "outputs": [
    {
     "data": {
      "text/html": [
       "<div>\n",
       "<style scoped>\n",
       "    .dataframe tbody tr th:only-of-type {\n",
       "        vertical-align: middle;\n",
       "    }\n",
       "\n",
       "    .dataframe tbody tr th {\n",
       "        vertical-align: top;\n",
       "    }\n",
       "\n",
       "    .dataframe thead th {\n",
       "        text-align: right;\n",
       "    }\n",
       "</style>\n",
       "<table border=\"1\" class=\"dataframe\">\n",
       "  <thead>\n",
       "    <tr style=\"text-align: right;\">\n",
       "      <th></th>\n",
       "      <th>Global Rank</th>\n",
       "      <th>Country</th>\n",
       "      <th>Handle</th>\n",
       "      <th>Gameplay</th>\n",
       "      <th>Ratings</th>\n",
       "    </tr>\n",
       "  </thead>\n",
       "  <tbody>\n",
       "    <tr>\n",
       "      <th>0</th>\n",
       "      <td>1</td>\n",
       "      <td>Belarus</td>\n",
       "      <td>tourist</td>\n",
       "      <td>282</td>\n",
       "      <td>3777</td>\n",
       "    </tr>\n",
       "    <tr>\n",
       "      <th>1</th>\n",
       "      <td>2</td>\n",
       "      <td>China</td>\n",
       "      <td>jiangly</td>\n",
       "      <td>181</td>\n",
       "      <td>3756</td>\n",
       "    </tr>\n",
       "    <tr>\n",
       "      <th>2</th>\n",
       "      <td>3</td>\n",
       "      <td>China</td>\n",
       "      <td>orzdevinwang</td>\n",
       "      <td>73</td>\n",
       "      <td>3696</td>\n",
       "    </tr>\n",
       "    <tr>\n",
       "      <th>3</th>\n",
       "      <td>4</td>\n",
       "      <td>China</td>\n",
       "      <td>Kevin114514</td>\n",
       "      <td>90</td>\n",
       "      <td>3647</td>\n",
       "    </tr>\n",
       "    <tr>\n",
       "      <th>4</th>\n",
       "      <td>5</td>\n",
       "      <td>Poland</td>\n",
       "      <td>Radewoosh</td>\n",
       "      <td>254</td>\n",
       "      <td>3631</td>\n",
       "    </tr>\n",
       "    <tr>\n",
       "      <th>5</th>\n",
       "      <td>6</td>\n",
       "      <td>Canada</td>\n",
       "      <td>ksun48</td>\n",
       "      <td>295</td>\n",
       "      <td>3574</td>\n",
       "    </tr>\n",
       "    <tr>\n",
       "      <th>6</th>\n",
       "      <td>7</td>\n",
       "      <td>Japan</td>\n",
       "      <td>maroonrk</td>\n",
       "      <td>194</td>\n",
       "      <td>3565</td>\n",
       "    </tr>\n",
       "    <tr>\n",
       "      <th>7</th>\n",
       "      <td>8</td>\n",
       "      <td>США</td>\n",
       "      <td>Benq</td>\n",
       "      <td>161</td>\n",
       "      <td>3527</td>\n",
       "    </tr>\n",
       "    <tr>\n",
       "      <th>8</th>\n",
       "      <td>9</td>\n",
       "      <td>США</td>\n",
       "      <td>ecnerwala</td>\n",
       "      <td>200</td>\n",
       "      <td>3526</td>\n",
       "    </tr>\n",
       "    <tr>\n",
       "      <th>9</th>\n",
       "      <td>10</td>\n",
       "      <td>United Kingdom</td>\n",
       "      <td>Um_nik</td>\n",
       "      <td>299</td>\n",
       "      <td>3418</td>\n",
       "    </tr>\n",
       "  </tbody>\n",
       "</table>\n",
       "</div>"
      ],
      "text/plain": [
       "  Global Rank         Country        Handle Gameplay Ratings\n",
       "0           1         Belarus       tourist      282    3777\n",
       "1           2           China       jiangly      181    3756\n",
       "2           3           China  orzdevinwang       73    3696\n",
       "3           4           China   Kevin114514       90    3647\n",
       "4           5          Poland     Radewoosh      254    3631\n",
       "5           6          Canada        ksun48      295    3574\n",
       "6           7           Japan      maroonrk      194    3565\n",
       "7           8             США          Benq      161    3527\n",
       "8           9             США     ecnerwala      200    3526\n",
       "9          10  United Kingdom        Um_nik      299    3418"
      ]
     },
     "execution_count": 124,
     "metadata": {},
     "output_type": "execute_result"
    }
   ],
   "source": [
    "import pandas as pd\n",
    "\n",
    "x = zip(x1, x2, x3, x4, x5)\n",
    "df = pd.DataFrame(x, columns = ['Global Rank', 'Country', 'Handle', 'Gameplay', 'Ratings'])\n",
    "df = df.dropna()\n",
    "df.head(10)"
   ]
  },
  {
   "cell_type": "code",
   "execution_count": 116,
   "id": "56148cd2",
   "metadata": {},
   "outputs": [],
   "source": [
    "df.to_excel('Codeforces_full_data.xlsx', index=False)\n",
    "df.to_csv('odeforces_full_data.csv', index=False)"
   ]
  }
 ],
 "metadata": {
  "kernelspec": {
   "display_name": "Python 3 (ipykernel)",
   "language": "python",
   "name": "python3"
  },
  "language_info": {
   "codemirror_mode": {
    "name": "ipython",
    "version": 3
   },
   "file_extension": ".py",
   "mimetype": "text/x-python",
   "name": "python",
   "nbconvert_exporter": "python",
   "pygments_lexer": "ipython3",
   "version": "3.11.7"
  }
 },
 "nbformat": 4,
 "nbformat_minor": 5
}
